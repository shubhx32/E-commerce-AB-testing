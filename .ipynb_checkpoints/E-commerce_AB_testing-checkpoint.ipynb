{
 "cells": [
  {
   "cell_type": "markdown",
   "id": "460a81ce-c89e-4a13-a785-792ba30846f0",
   "metadata": {},
   "source": [
    "# E-commerce website: A/B Testing"
   ]
  },
  {
   "cell_type": "markdown",
   "id": "346b799c-9fc8-4675-86ec-81f90f34d0c2",
   "metadata": {},
   "source": [
    "For this project, we will be working to understand the results of an A/B test run by an e-commerce website. The company has developed a new web page in order to try and increase the number of users who \"convert,\" meaning the number of users who decide to pay for the company's product. Your goal is to work through this notebook to help the company understand if they should implement this new page, keep the old page, or perhaps run the experiment longer to make their decision.\n",
    "\n",
    "In order to achieve this, we use the data obtained from `A/B testing` and perform a `z-test` on it to determine if there is a statistically significant improvement due to implementation of the new page.\n"
   ]
  },
  {
   "cell_type": "markdown",
   "id": "ebf37cfb-33e4-4892-8525-34b69921064c",
   "metadata": {},
   "source": [
    "## 📕Intializing project"
   ]
  },
  {
   "cell_type": "code",
   "execution_count": 1,
   "id": "c313920e-4d50-4cb5-8e83-c25b44e171ee",
   "metadata": {
    "jupyter": {
     "source_hidden": true
    }
   },
   "outputs": [
    {
     "name": "stdout",
     "output_type": "stream",
     "text": [
      "Data source import complete.\n"
     ]
    }
   ],
   "source": [
    "# Importing Dataset from Kaggle\n",
    "\n",
    "import kagglehub\n",
    "ab_test = kagglehub.dataset_download('ahmedmohameddawoud/ecommerce-ab-testing')\n",
    "\n",
    "print('Data source import complete.')"
   ]
  },
  {
   "cell_type": "code",
   "execution_count": 2,
   "id": "f42c72c7-0cff-4712-8c42-221382770b98",
   "metadata": {
    "jupyter": {
     "source_hidden": true
    }
   },
   "outputs": [],
   "source": [
    "import pandas as pd\n",
    "import numpy as np\n",
    "import matplotlib.pyplot as plt\n",
    "import seaborn as sborn\n",
    "\n",
    "import os\n",
    "\n",
    "import random\n",
    "\n",
    "import warnings\n",
    "warnings.filterwarnings('ignore')"
   ]
  },
  {
   "cell_type": "code",
   "execution_count": 3,
   "id": "354814ac-d6a1-44d4-b8df-fbbd43eb6294",
   "metadata": {
    "jupyter": {
     "source_hidden": true
    }
   },
   "outputs": [
    {
     "name": "stdout",
     "output_type": "stream",
     "text": [
      "Data Shape: (294478, 5)\n",
      "\n",
      "\n"
     ]
    },
    {
     "data": {
      "text/html": [
       "<div>\n",
       "<style scoped>\n",
       "    .dataframe tbody tr th:only-of-type {\n",
       "        vertical-align: middle;\n",
       "    }\n",
       "\n",
       "    .dataframe tbody tr th {\n",
       "        vertical-align: top;\n",
       "    }\n",
       "\n",
       "    .dataframe thead th {\n",
       "        text-align: right;\n",
       "    }\n",
       "</style>\n",
       "<table border=\"1\" class=\"dataframe\">\n",
       "  <thead>\n",
       "    <tr style=\"text-align: right;\">\n",
       "      <th></th>\n",
       "      <th>id</th>\n",
       "      <th>time</th>\n",
       "      <th>con_treat</th>\n",
       "      <th>page</th>\n",
       "      <th>converted</th>\n",
       "    </tr>\n",
       "  </thead>\n",
       "  <tbody>\n",
       "    <tr>\n",
       "      <th>0</th>\n",
       "      <td>851104</td>\n",
       "      <td>11:48.6</td>\n",
       "      <td>control</td>\n",
       "      <td>old_page</td>\n",
       "      <td>0</td>\n",
       "    </tr>\n",
       "    <tr>\n",
       "      <th>1</th>\n",
       "      <td>804228</td>\n",
       "      <td>01:45.2</td>\n",
       "      <td>control</td>\n",
       "      <td>old_page</td>\n",
       "      <td>0</td>\n",
       "    </tr>\n",
       "    <tr>\n",
       "      <th>2</th>\n",
       "      <td>661590</td>\n",
       "      <td>55:06.2</td>\n",
       "      <td>treatment</td>\n",
       "      <td>new_page</td>\n",
       "      <td>0</td>\n",
       "    </tr>\n",
       "    <tr>\n",
       "      <th>3</th>\n",
       "      <td>853541</td>\n",
       "      <td>28:03.1</td>\n",
       "      <td>treatment</td>\n",
       "      <td>new_page</td>\n",
       "      <td>0</td>\n",
       "    </tr>\n",
       "    <tr>\n",
       "      <th>4</th>\n",
       "      <td>864975</td>\n",
       "      <td>52:26.2</td>\n",
       "      <td>control</td>\n",
       "      <td>old_page</td>\n",
       "      <td>1</td>\n",
       "    </tr>\n",
       "  </tbody>\n",
       "</table>\n",
       "</div>"
      ],
      "text/plain": [
       "       id     time  con_treat      page  converted\n",
       "0  851104  11:48.6    control  old_page          0\n",
       "1  804228  01:45.2    control  old_page          0\n",
       "2  661590  55:06.2  treatment  new_page          0\n",
       "3  853541  28:03.1  treatment  new_page          0\n",
       "4  864975  52:26.2    control  old_page          1"
      ]
     },
     "execution_count": 3,
     "metadata": {},
     "output_type": "execute_result"
    }
   ],
   "source": [
    "#display the initial dataset\n",
    "csv_file_path = os.path.join(ab_test, 'ab_test.csv')\n",
    "df = pd.read_csv(csv_file_path)\n",
    "\n",
    "print(f\"Data Shape: {df.shape}\\n\\n\")\n",
    "df.head()"
   ]
  },
  {
   "cell_type": "markdown",
   "id": "c479204e-3e09-4bed-be54-8e486c070d08",
   "metadata": {
    "jp-MarkdownHeadingCollapsed": true
   },
   "source": [
    "## 📊 Data cleaning and Transformation\n",
    "\n",
    "Just like any other Exploratory Data Analysis or Data Analysis problem, it’s critical to ensure the dataset is both clean and logically consistent in `A/B testing`. Even small inconsistencies—like misassigned groups or duplicated users—can bias the results. Therefore, the following data cleaning and transformation checklist needs to be followed while A/B testings.\n",
    "\n",
    "1. Duplicate Removal\n",
    "2. Group & Page Validation\n",
    "3. Missing or Null Values\n",
    "4. Type Casting & Consistency\n",
    "5. Balanced Group Check"
   ]
  },
  {
   "cell_type": "markdown",
   "id": "3596d2f0-e7c9-49b9-b364-d2be2b83022e",
   "metadata": {},
   "source": [
    "### 1. Missing or Null Values\n",
    "- Checked for and removed rows with missing values in critical columns."
   ]
  },
  {
   "cell_type": "code",
   "execution_count": 4,
   "id": "8b7700ad-5642-4ed8-a0dc-dab16a2f091a",
   "metadata": {},
   "outputs": [
    {
     "name": "stdout",
     "output_type": "stream",
     "text": [
      "<class 'pandas.core.frame.DataFrame'>\n",
      "RangeIndex: 294478 entries, 0 to 294477\n",
      "Data columns (total 5 columns):\n",
      " #   Column        Non-Null Count   Dtype \n",
      "---  ------        --------------   ----- \n",
      " 0   user_id       294478 non-null  int64 \n",
      " 1   timestamp     294478 non-null  object\n",
      " 2   group         294478 non-null  object\n",
      " 3   landing_page  294478 non-null  object\n",
      " 4   converted     294478 non-null  int64 \n",
      "dtypes: int64(2), object(3)\n",
      "memory usage: 11.2+ MB\n"
     ]
    }
   ],
   "source": [
    "# changing column names to align with standard A/B testing critical columns\n",
    "df.columns = [\"user_id\", \"timestamp\", \"group\", \"landing_page\", \"converted\"]\n",
    "\n",
    "# general info about dataset\n",
    "df.info()"
   ]
  },
  {
   "cell_type": "markdown",
   "id": "f1abd20f-3bf2-4ee6-a62b-3640e772f58f",
   "metadata": {},
   "source": [
    "All entries contain same **number of non-null values == total entries** in dataset. Therefore, no null values are present."
   ]
  },
  {
   "cell_type": "markdown",
   "id": "826f1261-3b79-40a7-9c6d-5468d13923c8",
   "metadata": {},
   "source": [
    "### 2. Group & Page Validation\n",
    "- Ensured that:\n",
    "  - `control` group is always shown the **old landing page**\n",
    "  - `treatment` group is always shown the **new landing page**\n",
    "- Dropped rows with mismatches (e.g., control group shown new page) as these violate the test design."
   ]
  },
  {
   "cell_type": "code",
   "execution_count": 5,
   "id": "6b5d6064-9345-4619-a08c-c9c767caa0f7",
   "metadata": {},
   "outputs": [
    {
     "name": "stdout",
     "output_type": "stream",
     "text": [
      "Number of mismatched rows: 3893 rows\n",
      "Percent of mismatched rows: 1.32 %\n"
     ]
    }
   ],
   "source": [
    "df_mismatch = df[(df[\"group\"] == \"treatment\") & (df[\"landing_page\"] == \"old_page\")\n",
    "               |(df[\"group\"] == \"control\") & (df[\"landing_page\"] == \"new_page\")]\n",
    "\n",
    "n_mismatch = df_mismatch.shape[0]\n",
    "\n",
    "percent_mismatch = round(n_mismatch / len(df) * 100, 2)\n",
    "print(f'Number of mismatched rows: {n_mismatch} rows')\n",
    "print(f'Percent of mismatched rows: {percent_mismatch} %')"
   ]
  },
  {
   "cell_type": "markdown",
   "id": "1c161bf9-79c9-4422-a289-ccc0b57f0595",
   "metadata": {},
   "source": [
    "A/B testing is highly sensitive to mismatches between control group and testing value as this leads to invalidation of the assumptions made for statistical analysis such as Z-test and bias the conversion rates. Therefore, it is important to remove these entries from the dataset for a clean analysis. Additionally, if mismatch % is too high it might be wise to re-run or redesign the experiment."
   ]
  },
  {
   "cell_type": "code",
   "execution_count": 6,
   "id": "06dc224b-549a-4e6a-aaed-c70dc13ffa22",
   "metadata": {},
   "outputs": [
    {
     "data": {
      "text/plain": [
       "0"
      ]
     },
     "execution_count": 6,
     "metadata": {},
     "output_type": "execute_result"
    }
   ],
   "source": [
    "# Filtering out desired group-landing_page pairs and filtering out mismatches\n",
    "df2 = df[(df[\"group\"] == \"treatment\") & (df[\"landing_page\"] == \"new_page\")\n",
    "        |(df[\"group\"] == \"control\") & (df[\"landing_page\"] == \"old_page\")]\n",
    "\n",
    "#checking if any mismatches are remaining (counts if checking for treatment-new_page pair yields False)\n",
    "df2[((df2['group'] == 'treatment') == (df2['landing_page'] == 'new_page')) == False].shape[0]"
   ]
  },
  {
   "cell_type": "markdown",
   "id": "21ca98c3-32db-4280-9c7c-977fecd050ee",
   "metadata": {},
   "source": [
    "### 3. Duplicate Removal\n",
    "- Checked for repeated `user_id` entries which may indicate multiple exposures to the test.\n",
    "- Retained only the **first occurrence per user** to preserve the integrity of the experiment (one user, one variant)."
   ]
  },
  {
   "cell_type": "code",
   "execution_count": 7,
   "id": "7472bb7b-d377-4c80-afdb-244ecbcdf00b",
   "metadata": {},
   "outputs": [
    {
     "data": {
      "text/plain": [
       "290584"
      ]
     },
     "execution_count": 7,
     "metadata": {},
     "output_type": "execute_result"
    }
   ],
   "source": [
    "#drop duplicate rows on user_id\n",
    "df2 = df2.drop_duplicates(\"user_id\")\n",
    "\n",
    "len(df2)"
   ]
  },
  {
   "cell_type": "markdown",
   "id": "2006c3a5-30e4-40e9-95fd-281628214fc6",
   "metadata": {},
   "source": [
    "### 4. Type Casting & Consistency\n",
    "- Ensured data types are appropriate (e.g., `converted` as integer, `timestamp` as datetime).\n",
    "- Sorted data by timestamp for time-series visualization if needed."
   ]
  },
  {
   "cell_type": "code",
   "execution_count": 8,
   "id": "956cc1f0-18cf-4db4-acb7-765d034ee52a",
   "metadata": {},
   "outputs": [
    {
     "data": {
      "text/html": [
       "<div>\n",
       "<style scoped>\n",
       "    .dataframe tbody tr th:only-of-type {\n",
       "        vertical-align: middle;\n",
       "    }\n",
       "\n",
       "    .dataframe tbody tr th {\n",
       "        vertical-align: top;\n",
       "    }\n",
       "\n",
       "    .dataframe thead th {\n",
       "        text-align: right;\n",
       "    }\n",
       "</style>\n",
       "<table border=\"1\" class=\"dataframe\">\n",
       "  <thead>\n",
       "    <tr style=\"text-align: right;\">\n",
       "      <th></th>\n",
       "      <th>user_id</th>\n",
       "      <th>timestamp</th>\n",
       "      <th>group</th>\n",
       "      <th>landing_page</th>\n",
       "      <th>converted</th>\n",
       "    </tr>\n",
       "  </thead>\n",
       "  <tbody>\n",
       "    <tr>\n",
       "      <th>0</th>\n",
       "      <td>851104</td>\n",
       "      <td>11:48.6</td>\n",
       "      <td>control</td>\n",
       "      <td>old_page</td>\n",
       "      <td>0</td>\n",
       "    </tr>\n",
       "    <tr>\n",
       "      <th>1</th>\n",
       "      <td>804228</td>\n",
       "      <td>01:45.2</td>\n",
       "      <td>control</td>\n",
       "      <td>old_page</td>\n",
       "      <td>0</td>\n",
       "    </tr>\n",
       "    <tr>\n",
       "      <th>2</th>\n",
       "      <td>661590</td>\n",
       "      <td>55:06.2</td>\n",
       "      <td>treatment</td>\n",
       "      <td>new_page</td>\n",
       "      <td>0</td>\n",
       "    </tr>\n",
       "    <tr>\n",
       "      <th>3</th>\n",
       "      <td>853541</td>\n",
       "      <td>28:03.1</td>\n",
       "      <td>treatment</td>\n",
       "      <td>new_page</td>\n",
       "      <td>0</td>\n",
       "    </tr>\n",
       "    <tr>\n",
       "      <th>4</th>\n",
       "      <td>864975</td>\n",
       "      <td>52:26.2</td>\n",
       "      <td>control</td>\n",
       "      <td>old_page</td>\n",
       "      <td>1</td>\n",
       "    </tr>\n",
       "  </tbody>\n",
       "</table>\n",
       "</div>"
      ],
      "text/plain": [
       "   user_id timestamp      group landing_page  converted\n",
       "0   851104   11:48.6    control     old_page          0\n",
       "1   804228   01:45.2    control     old_page          0\n",
       "2   661590   55:06.2  treatment     new_page          0\n",
       "3   853541   28:03.1  treatment     new_page          0\n",
       "4   864975   52:26.2    control     old_page          1"
      ]
     },
     "execution_count": 8,
     "metadata": {},
     "output_type": "execute_result"
    }
   ],
   "source": [
    "# displaying data type of each attribute in the dataframe\n",
    "df2.dtypes\n",
    "\n",
    "#displaying first 5 rows for visual check on data type\n",
    "df2.head()"
   ]
  },
  {
   "attachments": {},
   "cell_type": "markdown",
   "id": "8a09ae37-8255-4299-9679-2239120486ff",
   "metadata": {},
   "source": [
    "Based on the above visualizations of the dataframe, following our principle we will need to convert the timestamp data into an appropriate data and time format. \n",
    "\n",
    "On analyzing the timestamp data the data lies in the range (00:00.0,59:59.9). Based on these observations, it is clear that the time is of the format : <br>\n",
    "`TIME_FORMAT` = `%M:%S.%f` <t> i.e. minutes:seconds.miliseconds"
   ]
  },
  {
   "cell_type": "code",
   "execution_count": 9,
   "id": "b8fc10f4-cdea-47e7-a06a-e10770eb5bc0",
   "metadata": {},
   "outputs": [
    {
     "data": {
      "text/plain": [
       "0"
      ]
     },
     "execution_count": 9,
     "metadata": {},
     "output_type": "execute_result"
    }
   ],
   "source": [
    "# Changing data type of timestamp attribute to datetime and sorting\n",
    "df2['timestamp'] = pd.to_datetime(df2['timestamp'],\n",
    "                                  format='%M:%S.%f',\n",
    "                                 errors='coerce')\n",
    "\n",
    "#checking for error conversions\n",
    "df2['timestamp'].isna().sum()"
   ]
  },
  {
   "cell_type": "markdown",
   "id": "dc8e16ae-5e20-47be-be24-065780d6ef4a",
   "metadata": {},
   "source": [
    "### 5. Balanced Group Check\n",
    "- Verified that both `control` and `treatment` groups have comparable sample sizes to maintain statistical power."
   ]
  },
  {
   "cell_type": "code",
   "execution_count": 10,
   "id": "1e7ac0e2-8699-4f5f-939c-d00d4921c9d1",
   "metadata": {},
   "outputs": [
    {
     "data": {
      "text/plain": [
       "group\n",
       "treatment    145310\n",
       "control      145274\n",
       "Name: count, dtype: int64"
      ]
     },
     "metadata": {},
     "output_type": "display_data"
    },
    {
     "name": "stdout",
     "output_type": "stream",
     "text": [
      "Relative size difference: 0.01%\n"
     ]
    }
   ],
   "source": [
    "cnts = df2['group'].value_counts()\n",
    "display(cnts)\n",
    "\n",
    "rel_diff = abs(cnts['control'] - cnts['treatment']) / cnts.sum() * 100\n",
    "print(f\"Relative size difference: {rel_diff:.2f}%\")"
   ]
  },
  {
   "cell_type": "markdown",
   "id": "2327c402-8aff-4cb9-aaff-2eb8fec69c13",
   "metadata": {},
   "source": [
    "Since both the groups are pretty comparable in size, we can move forward with statistical analysis of this data as all defined data cleaning and transformation checks have been completed."
   ]
  },
  {
   "cell_type": "markdown",
   "id": "2c4041a1-4515-4674-ad18-d519eea1c54e",
   "metadata": {
    "jp-MarkdownHeadingCollapsed": true
   },
   "source": [
    "## 👀Exploratory Data Analysis\n",
    "\n",
    "Before performing hypothesis testing,it is a good practice to conduct an initial probabilistic study in order to get a basic idea if there is a visible improvement between the two control groups or not. Therefore, we determine:\n",
    "1. Overall conversion rate\n",
    "2. Group-wise conversion rates\n",
    "\n",
    "Additionally, country-wise data has been provided for each user in the `countries_ab.csv` which we can use to determine if the country of origin has any effect on the overall and group-wise conversion rates."
   ]
  },
  {
   "cell_type": "code",
   "execution_count": 11,
   "id": "4bae9537-3ce1-4ea9-b4c2-5a3256f51bd0",
   "metadata": {},
   "outputs": [
    {
     "name": "stdout",
     "output_type": "stream",
     "text": [
      "<class 'pandas.core.frame.DataFrame'>\n",
      "Index: 290584 entries, 0 to 294477\n",
      "Data columns (total 5 columns):\n",
      " #   Column        Non-Null Count   Dtype         \n",
      "---  ------        --------------   -----         \n",
      " 0   user_id       290584 non-null  int64         \n",
      " 1   timestamp     290584 non-null  datetime64[ns]\n",
      " 2   group         290584 non-null  object        \n",
      " 3   landing_page  290584 non-null  object        \n",
      " 4   converted     290584 non-null  int64         \n",
      "dtypes: datetime64[ns](1), int64(2), object(2)\n",
      "memory usage: 13.3+ MB\n"
     ]
    }
   ],
   "source": [
    "df2.info()"
   ]
  },
  {
   "cell_type": "code",
   "execution_count": 12,
   "id": "a0ce1a8d-56e6-46a4-a4a7-b428e1752704",
   "metadata": {},
   "outputs": [
    {
     "data": {
      "text/plain": [
       "11.959708724499627"
      ]
     },
     "execution_count": 12,
     "metadata": {},
     "output_type": "execute_result"
    }
   ],
   "source": [
    "# Percent of convergance\n",
    "# The probability of an individual converting regardless of the page they receive\n",
    "df2.converted.mean() * 100"
   ]
  },
  {
   "cell_type": "code",
   "execution_count": 13,
   "id": "ae1b2f73-74d1-47ac-8a4f-90a3e0eec85d",
   "metadata": {},
   "outputs": [
    {
     "name": "stdout",
     "output_type": "stream",
     "text": [
      "<class 'pandas.core.frame.DataFrame'>\n",
      "Index: 290584 entries, 0 to 294477\n",
      "Data columns (total 5 columns):\n",
      " #   Column        Non-Null Count   Dtype         \n",
      "---  ------        --------------   -----         \n",
      " 0   user_id       290584 non-null  int64         \n",
      " 1   timestamp     290584 non-null  datetime64[ns]\n",
      " 2   group         290584 non-null  object        \n",
      " 3   landing_page  290584 non-null  object        \n",
      " 4   converted     290584 non-null  int64         \n",
      "dtypes: datetime64[ns](1), int64(2), object(2)\n",
      "memory usage: 13.3+ MB\n"
     ]
    }
   ],
   "source": [
    "df2.info()"
   ]
  },
  {
   "cell_type": "code",
   "execution_count": 14,
   "id": "1156dc91-b088-42f3-9fe1-722278b1670e",
   "metadata": {},
   "outputs": [
    {
     "name": "stdout",
     "output_type": "stream",
     "text": [
      "group\n",
      "control      12.038630\n",
      "treatment    11.880807\n",
      "Name: converted, dtype: float64\n"
     ]
    }
   ],
   "source": [
    "df2['landing_page'] = df2['landing_page'].astype(str)\n",
    "\n",
    "conversion_rate = df2.groupby('group')['converted'].mean() * 100\n",
    "print(conversion_rate)"
   ]
  },
  {
   "cell_type": "code",
   "execution_count": 15,
   "id": "cce973e4-7180-491e-9fb7-8545525fdca1",
   "metadata": {},
   "outputs": [
    {
     "data": {
      "text/html": [
       "<div>\n",
       "<style scoped>\n",
       "    .dataframe tbody tr th:only-of-type {\n",
       "        vertical-align: middle;\n",
       "    }\n",
       "\n",
       "    .dataframe tbody tr th {\n",
       "        vertical-align: top;\n",
       "    }\n",
       "\n",
       "    .dataframe thead th {\n",
       "        text-align: right;\n",
       "    }\n",
       "</style>\n",
       "<table border=\"1\" class=\"dataframe\">\n",
       "  <thead>\n",
       "    <tr style=\"text-align: right;\">\n",
       "      <th></th>\n",
       "      <th>proportion</th>\n",
       "    </tr>\n",
       "    <tr>\n",
       "      <th>landing_page</th>\n",
       "      <th></th>\n",
       "    </tr>\n",
       "  </thead>\n",
       "  <tbody>\n",
       "    <tr>\n",
       "      <th>new_page</th>\n",
       "      <td>50.006194</td>\n",
       "    </tr>\n",
       "    <tr>\n",
       "      <th>old_page</th>\n",
       "      <td>49.993806</td>\n",
       "    </tr>\n",
       "  </tbody>\n",
       "</table>\n",
       "</div>"
      ],
      "text/plain": [
       "              proportion\n",
       "landing_page            \n",
       "new_page       50.006194\n",
       "old_page       49.993806"
      ]
     },
     "execution_count": 15,
     "metadata": {},
     "output_type": "execute_result"
    }
   ],
   "source": [
    "#What is the probability that an individual received the new page?\n",
    "pd.DataFrame(df2.landing_page.value_counts(normalize = True) * 100)"
   ]
  },
  {
   "cell_type": "markdown",
   "id": "5a1942ff-e29f-406c-9917-a8587e3ff7d1",
   "metadata": {},
   "source": [
    "## 📈 Statistical Hypothesis testing\n",
    "\n",
    "After cleaning and exploring the data, we now formally test whether the new landing page has significantly improved conversion rates compared to the old one.\n",
    "\n",
    "Since we need to determine if the new page improves the conversion rate, we can set up a **Two-proportion Z-test** which is ideal when measuring **directional improvement or decline**, thus enables us to compare the difference in conversion proportions between the control and treatment groups.  \n",
    "  \n",
    "### Setting up hypotheses\n",
    "\n",
    "We define our hypotheses as follows:\n",
    "\n",
    "- **Null Hypothesis (H₀)**: There is **no improvement** in conversion rate from the new page.  \n",
    "  Mathematically, <br>\n",
    "  $ H_0:p_{\\text{new}} - p_{\\text{old}} \\leq 0$\n",
    "\n",
    "- **Alternative Hypothesis (H₁)**: The **new page performs better**, i.e., it has a higher conversion rate.  \n",
    "  $ H_0:p_{\\text{old}} - p_{\\text{new}} > 0$\n"
   ]
  },
  {
   "cell_type": "code",
   "execution_count": 16,
   "id": "69ec25ba-0df9-4867-9dbc-a6e58e5e5708",
   "metadata": {},
   "outputs": [],
   "source": [
    "# Creating the sampling distribution of difference in means \n",
    "means_diff = []\n",
    "size = df2.shape[0]\n",
    "for _ in range(10000):\n",
    "    sample = df2.sample(size, replace = True)\n",
    "    control_mean = sample[sample[\"group\"] == \"control\"][\"converted\"].mean()\n",
    "    treat_mean = sample[sample[\"group\"] == \"treatment\"][\"converted\"].mean()\n",
    "    means_diff.append(treat_mean - control_mean)"
   ]
  },
  {
   "cell_type": "code",
   "execution_count": 17,
   "id": "8c395e9e-9d1f-441d-b42f-694055c2e423",
   "metadata": {},
   "outputs": [
    {
     "data": {
      "image/png": "[encoded data removed]",
      "text/plain": [
       "<Figure size 800x400 with 1 Axes>"
      ]
     },
     "metadata": {},
     "output_type": "display_data"
    }
   ],
   "source": [
    "# Plotting the sampling distribution \n",
    "plt.figure(figsize=(8, 4), dpi=100)\n",
    "plt.hist(\n",
    "    means_diff,\n",
    "    bins=30,\n",
    "    color='coral',      # fill color\n",
    "    edgecolor='black',  # bar borders\n",
    "    alpha=0.8             # slight transparency\n",
    ")\n",
    "\n",
    "plt.title('Sample Distribution of Difference in Conversion Rates')\n",
    "plt.xlabel('Difference in Conversion Rate')\n",
    "plt.ylabel('Frequency')\n",
    "plt.tight_layout()\n",
    "plt.show()"
   ]
  },
  {
   "cell_type": "code",
   "execution_count": 18,
   "id": "fc2a97dd-727b-48d5-895c-3df0f2cd6c9f",
   "metadata": {},
   "outputs": [],
   "source": [
    "# Simulate distribution under the null hypothesis\n",
    "\n",
    "means_diff = np.array(means_diff)\n",
    "null_vals = np.random.normal(0, means_diff.std(), means_diff.size)"
   ]
  },
  {
   "cell_type": "code",
   "execution_count": 19,
   "id": "f6dbe3a2-05ca-4300-873a-d6065c600a7f",
   "metadata": {},
   "outputs": [
    {
     "data": {
      "image/png": "[encoded data removed]",
      "text/plain": [
       "<Figure size 800x400 with 1 Axes>"
      ]
     },
     "metadata": {},
     "output_type": "display_data"
    }
   ],
   "source": [
    "# Plot the null distribution\n",
    "plt.figure(figsize=(8, 4), dpi=100)\n",
    "plt.hist(\n",
    "    null_vals,\n",
    "    bins=30,\n",
    "    color='skyblue',      # fill color\n",
    "    edgecolor='midnightblue',  # bar borders\n",
    "    alpha=0.8             # slight transparency\n",
    ")\n",
    "\n",
    "plt.title('Null Distribution of Difference in Conversion Rates')\n",
    "plt.xlabel('Difference in Conversion Rate')\n",
    "plt.ylabel('Frequency')\n",
    "plt.tight_layout()\n",
    "plt.show()\n"
   ]
  },
  {
   "cell_type": "code",
   "execution_count": 20,
   "id": "24fed410-3501-45f5-b6fc-3816aa599640",
   "metadata": {},
   "outputs": [
    {
     "data": {
      "image/png": "[encoded data removed]",
      "text/plain": [
       "<Figure size 800x400 with 1 Axes>"
      ]
     },
     "metadata": {},
     "output_type": "display_data"
    }
   ],
   "source": [
    "# Plot observed statistic with the null distibution\n",
    "control_mean = df2[df2[\"group\"] == \"control\"][\"converted\"].mean()\n",
    "treat_mean = df2[df2[\"group\"] == \"treatment\"][\"converted\"].mean()\n",
    "obs_diff = treat_mean - control_mean\n",
    "\n",
    "plt.figure(figsize=(8, 4), dpi=100)\n",
    "plt.hist(\n",
    "    null_vals,\n",
    "    bins=30,\n",
    "    color='skyblue',      # fill color\n",
    "    edgecolor='midnightblue',  # bar borders\n",
    "    alpha=0.8             # slight transparency\n",
    ")\n",
    "plt.axvline(obs_diff, c='red')\n",
    "\n",
    "plt.title('Null Distribution of Difference in Conversion Rates with average line')\n",
    "plt.xlabel('Difference in Conversion Rate')\n",
    "plt.ylabel('Frequency')\n",
    "plt.tight_layout()\n",
    "plt.show()"
   ]
  },
  {
   "cell_type": "code",
   "execution_count": 21,
   "id": "a00390d0-9065-42a0-b4aa-e8998cc8c6e1",
   "metadata": {},
   "outputs": [
    {
     "data": {
      "text/plain": [
       "0.9017"
      ]
     },
     "execution_count": 21,
     "metadata": {},
     "output_type": "execute_result"
    }
   ],
   "source": [
    "# calculating the p value \n",
    "(null_vals > obs_diff).mean()"
   ]
  },
  {
   "cell_type": "markdown",
   "id": "daa7ca11-f285-46bf-affd-1511d980da3e",
   "metadata": {},
   "source": [
    "### Interpretation\n",
    "\n",
    "From the z-test, the p-value is obtained to be 0.903. Thus, from the chosen test we obtain p-value ≥ 0.05 and thus, **fail to reject H₀** meaning there's not enough evidence to support the new page’s superiority.\n"
   ]
  },
  {
   "cell_type": "markdown",
   "id": "865fffd5-176f-40e1-968a-b6f7f843b664",
   "metadata": {},
   "source": [
    "## 🔎 Key insights:\n",
    "\n",
    "Based on this result, we should **not launch the new page** at this time, as the data does not support a meaningful improvement in conversion. The following insights can be derived from this analysis:\n",
    "- **No demonstrable improvement:** No demonstrable increase in conversion was observed and the new landing page **does not outperform** the current version.\n",
    "- **Goal realignment:** A stronger hypothesis is required for before any implementation is taken into consideration. In absence of strong uplift of conversion trends, user feedback, user retention time and heatmaps can be used to quantify the impact of the current redesign by the UX teams and to serve as guidelines for future changes.\n",
    "- **Segement sensitivity:** With > 290 k observations, statistical power is high; but sub-segments might hide value improvements. Significant improvements in particular segments can justify controlled rollouts as no drop in conversion suggests the new design is at least non‑harmful."
   ]
  },
  {
   "cell_type": "markdown",
   "id": "c46e9d71-ddba-4f44-93bd-4d811f18f7a2",
   "metadata": {},
   "source": [
    "## 📑 Business Decision\n",
    "\n",
    "Based on these insights, the following business decisions would be recommended:\n",
    "- **Park the global rollout** of the current redesign; reiterate the design and testing while keeping the control page live.\n",
    "- **Drill down by segment** to look for micro‑lifts that may merit targeted deployment.\n",
    "- **Refine hypotheses** test copy clarity, trust badges, or call‑to‑action placement—changes with historically larger effect sizes.\n",
    "- **Collect qualitative feedback** to understand why the redesign failed to move the needle via user interviews, heatmaps, user retention time, etc."
   ]
  }
 ],
 "metadata": {
  "kernelspec": {
   "display_name": "Python 3 (ipykernel)",
   "language": "python",
   "name": "python3"
  },
  "language_info": {
   "codemirror_mode": {
    "name": "ipython",
    "version": 3
   },
   "file_extension": ".py",
   "mimetype": "text/x-python",
   "name": "python",
   "nbconvert_exporter": "python",
   "pygments_lexer": "ipython3",
   "version": "3.12.7"
  }
 },
 "nbformat": 4,
 "nbformat_minor": 5
}
