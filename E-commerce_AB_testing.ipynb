{
 "cells": [
  {
   "cell_type": "markdown",
   "id": "460a81ce-c89e-4a13-a785-792ba30846f0",
   "metadata": {},
   "source": [
    "# E-commerce website: A/B Testing"
   ]
  },
  {
   "cell_type": "markdown",
   "id": "2af10c19-4490-4a80-8eba-1164ae199a5c",
   "metadata": {},
   "source": []
  }
 ],
 "metadata": {
  "kernelspec": {
   "display_name": "Python 3 (ipykernel)",
   "language": "python",
   "name": "python3"
  },
  "language_info": {
   "codemirror_mode": {
    "name": "ipython",
    "version": 3
   },
   "file_extension": ".py",
   "mimetype": "text/x-python",
   "name": "python",
   "nbconvert_exporter": "python",
   "pygments_lexer": "ipython3",
   "version": "3.12.7"
  }
 },
 "nbformat": 4,
 "nbformat_minor": 5
}
